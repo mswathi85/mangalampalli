{
 "cells": [
  {
   "cell_type": "markdown",
   "metadata": {},
   "source": [
    "#### 1. Create the below pattern using nested for loop in Python."
   ]
  },
  {
   "cell_type": "code",
   "execution_count": null,
   "metadata": {},
   "outputs": [],
   "source": [
    "inp = int(input(\"Enter the no.of rows:\"))\n",
    "k = 5\n",
    "for i in range(1, inp+1):\n",
    "    if i<=5:\n",
    "        for j in range(1, i+1):\n",
    "            print(\"*\", end = ' ')\n",
    "        print()\n",
    "    elif i > 5:\n",
    "        for j in range(i+1,inp+1):\n",
    "            i = i - 1\n",
    "            print(\"*\", end = ' ')\n",
    "        print()\n",
    "       \n",
    "            "
   ]
  },
  {
   "cell_type": "markdown",
   "metadata": {},
   "source": [
    "#### 2. Write a Python program to reverse a word after accepting the input from the user.\n"
   ]
  },
  {
   "cell_type": "code",
   "execution_count": null,
   "metadata": {},
   "outputs": [],
   "source": [
    "word = input(\"Enter a word :\")\n",
    "rev_word = word[::-1]\n",
    "print(\" The input word is {} and the Reversed word is {}\".format(word,rev_word))"
   ]
  },
  {
   "cell_type": "code",
   "execution_count": null,
   "metadata": {},
   "outputs": [],
   "source": []
  }
 ],
 "metadata": {
  "kernelspec": {
   "display_name": "Python 3",
   "language": "python",
   "name": "python3"
  },
  "language_info": {
   "codemirror_mode": {
    "name": "ipython",
    "version": 3
   },
   "file_extension": ".py",
   "mimetype": "text/x-python",
   "name": "python",
   "nbconvert_exporter": "python",
   "pygments_lexer": "ipython3",
   "version": "3.8.5"
  }
 },
 "nbformat": 4,
 "nbformat_minor": 4
}
