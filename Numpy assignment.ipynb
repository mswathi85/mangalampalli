{
 "cells": [
  {
   "cell_type": "markdown",
   "metadata": {},
   "source": [
    "#### 1. Write a function so that the columns of the output matrix are powers of the input vector.\n"
   ]
  },
  {
   "cell_type": "code",
   "execution_count": 40,
   "metadata": {},
   "outputs": [
    {
     "name": "stdout",
     "output_type": "stream",
     "text": [
      "The deceasing order\n",
      " [[ 1  1  1]\n",
      " [ 4  2  1]\n",
      " [ 9  3  1]\n",
      " [25  5  1]\n",
      " [36  6  1]]\n",
      "The Increasing Order\n",
      " [[ 1  1  1]\n",
      " [ 1  2  4]\n",
      " [ 1  3  9]\n",
      " [ 1  5 25]\n",
      " [ 1  6 36]]\n"
     ]
    }
   ],
   "source": [
    "import numpy as np\n",
    "def np_vander(ip_vector, N, increasing = False):\n",
    "    if not increasing:\n",
    "         op_vector = np.column_stack([ip_vector_1**(N-1-i) for i in range(N)])\n",
    "    elif increasing:\n",
    "        op_vector = np.array([x**i for x in ip_vector for i in range(N)]).reshape(ip_vector.size,N)\n",
    "    \n",
    "    return op_vector\n",
    "\n",
    "ip_vector_1 = np.array([1,2,3,5,6])\n",
    "N_columns = 3\n",
    "out_vector_dec = np_vander(ip_vector_1, N_columns, False)\n",
    "out_vector_inc = np_vander(ip_vector_1, N_columns, True)\n",
    "print (\"The deceasing order\\n\",out_vector_dec)\n",
    "print (\"The Increasing Order\\n\",out_vector_inc)\n"
   ]
  },
  {
   "cell_type": "markdown",
   "metadata": {},
   "source": [
    "#### 2. Write a function to find moving average in an array over a window:\n",
    "- Test it over [3, 5, 7, 2, 8, 10, 11, 65, 72, 81, 99, 100, 150] and window of 3.\n",
    "- ''' Problem Statement 2:\n",
    "- Given a sequence of n values x1, x2, ..., xn and a window size k>0, the k-th moving average of\n",
    "- the given sequence is defined as follows:\n",
    "- The moving average sequence has n-k+1 elements as shown below.\n",
    "- The moving averages with k=4 of a ten-value sequence (n=10) is shown below\n",
    "- i 1 2 3 4 5 6 7 8 9 10\n",
    "- ===== == == == == == == == == == ==\n",
    " - Input 10 20 30 40 50 60 70 80 90 100\n",
    "-  y1 25 = (10+20+30+40)/4\n",
    "-  y2 35 = (20+30+40+50)/4\n",
    "-  y3 45 = (30+40+50+60)/4\n",
    "-  y4 55 = (40+50+60+70)/4\n",
    "-  y5 65 = (50+60+70+80)/4\n",
    "-  y6 75 = (60+70+80+90)/4\n",
    "-  y7 85 = (70+80+90+100)/4\n",
    "- Thus, the moving average sequence has n-k+1=10-4+1=7 values.'''"
   ]
  },
  {
   "cell_type": "code",
   "execution_count": 6,
   "metadata": {},
   "outputs": [],
   "source": [
    "import numpy as np"
   ]
  },
  {
   "cell_type": "code",
   "execution_count": 12,
   "metadata": {},
   "outputs": [],
   "source": [
    "x = [3, 5, 7, 2, 8, 10, 11, 65, 72, 81, 99, 100, 150]\n",
    "\n",
    "def mov_avg(x, win):\n",
    "    for m in range(len(x)-(win-1)):\n",
    "        yield sum(np.ones(win) * x[m:m+win]) / win "
   ]
  },
  {
   "cell_type": "code",
   "execution_count": 13,
   "metadata": {},
   "outputs": [
    {
     "data": {
      "text/plain": [
       "[5.0,\n",
       " 4.666666666666667,\n",
       " 5.666666666666667,\n",
       " 6.666666666666667,\n",
       " 9.666666666666666,\n",
       " 28.666666666666668,\n",
       " 49.333333333333336,\n",
       " 72.66666666666667,\n",
       " 84.0,\n",
       " 93.33333333333333,\n",
       " 116.33333333333333]"
      ]
     },
     "execution_count": 13,
     "metadata": {},
     "output_type": "execute_result"
    }
   ],
   "source": [
    "list(mov_avg(x,3))"
   ]
  },
  {
   "cell_type": "code",
   "execution_count": null,
   "metadata": {},
   "outputs": [],
   "source": []
  }
 ],
 "metadata": {
  "kernelspec": {
   "display_name": "Python 3",
   "language": "python",
   "name": "python3"
  },
  "language_info": {
   "codemirror_mode": {
    "name": "ipython",
    "version": 3
   },
   "file_extension": ".py",
   "mimetype": "text/x-python",
   "name": "python",
   "nbconvert_exporter": "python",
   "pygments_lexer": "ipython3",
   "version": "3.8.5"
  }
 },
 "nbformat": 4,
 "nbformat_minor": 4
}
